{
 "cells": [
  {
   "cell_type": "markdown",
   "id": "65ea50ed-b8ba-4b99-a791-cc938d7bbc73",
   "metadata": {},
   "source": [
    "<H1>My Jupyter Notebook on IBM Watson Studio</H1>"
   ]
  },
  {
   "cell_type": "markdown",
   "id": "66361a4c-65ed-491c-845f-77a4ab10bfa8",
   "metadata": {},
   "source": [
    "**SHRUTI**"
   ]
  },
  {
   "cell_type": "markdown",
   "id": "7999f40d-43b9-4249-82fc-14ec24126c8e",
   "metadata": {},
   "source": [
    "Assistant Professor "
   ]
  },
  {
   "cell_type": "markdown",
   "id": "b05df722-f54a-4346-8058-799dbb09d3b4",
   "metadata": {},
   "source": [
    "*I am interested in Data Science because there is so much to learn to learn in it, it is the need of today and helps to learn more about data so that we can use it in best possible way.*"
   ]
  },
  {
   "cell_type": "markdown",
   "id": "2bf98690-5636-4714-b3c2-efd44e96b153",
   "metadata": {},
   "source": [
    "<H3>THE CODE BELOW IS GOING TO MULTIPLY TWO NUMBERS</H3>"
   ]
  },
  {
   "cell_type": "code",
   "execution_count": 3,
   "id": "6459a8e8-e4d1-444e-98a9-d1ecc66e8d26",
   "metadata": {},
   "outputs": [
    {
     "data": {
      "text/plain": [
       "18"
      ]
     },
     "execution_count": 3,
     "metadata": {},
     "output_type": "execute_result"
    }
   ],
   "source": [
    "3*6"
   ]
  },
  {
   "cell_type": "markdown",
   "id": "3221ca24-27e6-489a-853f-2679093ea30f",
   "metadata": {},
   "source": [
    "Following is the list of fruits\n",
    "***\n",
    "- Mango\n",
    "- Kiwi\n",
    "3. Banana\n",
    "4. Orange\n",
    "<"
   ]
  }
 ],
 "metadata": {
  "kernelspec": {
   "display_name": "Python",
   "language": "python",
   "name": "conda-env-python-py"
  },
  "language_info": {
   "codemirror_mode": {
    "name": "ipython",
    "version": 3
   },
   "file_extension": ".py",
   "mimetype": "text/x-python",
   "name": "python",
   "nbconvert_exporter": "python",
   "pygments_lexer": "ipython3",
   "version": "3.7.12"
  }
 },
 "nbformat": 4,
 "nbformat_minor": 5
}
